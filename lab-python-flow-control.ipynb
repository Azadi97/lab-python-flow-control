{
 "cells": [
  {
   "cell_type": "markdown",
   "id": "d3bfc191-8885-42ee-b0a0-bbab867c6f9f",
   "metadata": {
    "tags": []
   },
   "source": [
    "# Lab | Flow Control"
   ]
  },
  {
   "cell_type": "markdown",
   "id": "3851fcd1-cf98-4653-9c89-e003b7ec9400",
   "metadata": {},
   "source": [
    "## Exercise: Managing Customer Orders Optimized\n",
    "\n",
    "In the last lab, you were starting an online store that sells various products. To ensure smooth operations, you developed a program that manages customer orders and inventory.\n",
    "\n",
    "You did so without using flow control. Let's go a step further and improve this code.\n",
    "\n",
    "Follow the steps below to complete the exercise:\n",
    "\n",
    "1. Look at your code from the lab data structures, and improve repeated code with loops.\n",
    "\n",
    "2. Instead of asking the user to input the name of three products that a customer wants to order, do the following:\n",
    "    \n",
    "    a. Prompt the user to enter the name of a product that a customer wants to order.\n",
    "    \n",
    "    b. Add the product name to the \"customer_orders\" set.\n",
    "    \n",
    "    c. Ask the user if they want to add another product (yes/no).\n",
    "    \n",
    "    d. Continue the loop until the user does not want to add another product.\n",
    "\n",
    "3. Instead of updating the inventory by subtracting 1 from the quantity of each product, only do it for  the products that were ordered (those in \"customer_orders\")."
   ]
  },
  {
   "cell_type": "code",
   "execution_count": 1,
   "id": "46d9f7d2",
   "metadata": {},
   "outputs": [
    {
     "name": "stdout",
     "output_type": "stream",
     "text": [
      "Input the quantity for t-shirt:4\n",
      "Input the quantity for mug:4\n",
      "Input the quantity for hat:4\n",
      "Input the quantity for book:4\n",
      "Input the quantity for keychain:4\n",
      "{'t-shirt': '4', 'mug': '4', 'hat': '4', 'book': '4', 'keychain': '4'}\n"
     ]
    }
   ],
   "source": [
    "products = ['t-shirt', 'mug', 'hat', 'book', 'keychain']\n",
    "inventory = {}\n",
    "\n",
    "for i in products:\n",
    "    pr_count = input(f\"Input the quantity for {i}:\")\n",
    "    inventory[i] = pr_count\n",
    "                    \n",
    "print(inventory)"
   ]
  },
  {
   "cell_type": "code",
   "execution_count": 2,
   "id": "ef18c4ef",
   "metadata": {},
   "outputs": [
    {
     "name": "stdout",
     "output_type": "stream",
     "text": [
      "['t-shirt', 'mug', 'hat', 'book', 'keychain'] \n",
      "name the product (listed above) customer wants to order:mug\n",
      "do you want to add another one (yes/no)?yes\n",
      "['t-shirt', 'mug', 'hat', 'book', 'keychain'] \n",
      "name the product (listed above) customer wants to order:book\n",
      "do you want to add another one (yes/no)?no\n",
      "{'book', 'mug'}\n"
     ]
    }
   ],
   "source": [
    "#a- Prompt the user to enter the name of a product that a customer wants to order.\n",
    "#b- Add the product name to the \"customer_orders\" set.\n",
    "#c- Ask the user if they want to add another product (yes/no).\n",
    "#d- Continue the loop until the user does not want to add another product.\n",
    "\n",
    "customer_orders = set()\n",
    "yes = True\n",
    "while yes:\n",
    "    cus_order = input(f\"{products} \\nname the product (listed above) customer wants to order:\" )\n",
    "    if cus_order not in customer_orders and cus_order in inventory:\n",
    "        customer_orders.add(cus_order)\n",
    "        ans = input(\"do you want to add another one (yes/no)?\")\n",
    "        if ans == \"no\":\n",
    "            yes = False\n",
    "        else:\n",
    "            yes = True\n",
    "    else:\n",
    "        print(\"item already exists or not in inventory\")\n",
    "print(customer_orders)"
   ]
  },
  {
   "cell_type": "code",
   "execution_count": 3,
   "id": "4818ede5",
   "metadata": {},
   "outputs": [
    {
     "data": {
      "text/plain": [
       "{'t-shirt': 4, 'mug': 3, 'hat': 4, 'book': 3, 'keychain': 4}"
      ]
     },
     "execution_count": 3,
     "metadata": {},
     "output_type": "execute_result"
    }
   ],
   "source": [
    "\"\"\" Instead of updating the inventory by subtracting 1 from the quantity of each product, \n",
    "only do it for the products that were ordered (those in \"customer_orders\").\"\"\"\n",
    "\n",
    "updated_inventory = {}\n",
    "for i, j in inventory.items():\n",
    "    if i in customer_orders:\n",
    "\n",
    "        deducted_quantity = int(inventory[i]) - 1\n",
    "        updated_inventory[i] = deducted_quantity\n",
    "    else:\n",
    "        deducted_quantity = int(inventory[i])\n",
    "        updated_inventory[i] = deducted_quantity\n",
    "updated_inventory"
   ]
  },
  {
   "cell_type": "code",
   "execution_count": null,
   "id": "00d5deee",
   "metadata": {},
   "outputs": [],
   "source": []
  },
  {
   "cell_type": "code",
   "execution_count": null,
   "id": "1edf0538",
   "metadata": {},
   "outputs": [],
   "source": []
  },
  {
   "cell_type": "code",
   "execution_count": null,
   "id": "a5eac31e",
   "metadata": {},
   "outputs": [],
   "source": []
  },
  {
   "cell_type": "code",
   "execution_count": null,
   "id": "add065c5",
   "metadata": {},
   "outputs": [],
   "source": []
  }
 ],
 "metadata": {
  "kernelspec": {
   "display_name": "Python 3 (ipykernel)",
   "language": "python",
   "name": "python3"
  },
  "language_info": {
   "codemirror_mode": {
    "name": "ipython",
    "version": 3
   },
   "file_extension": ".py",
   "mimetype": "text/x-python",
   "name": "python",
   "nbconvert_exporter": "python",
   "pygments_lexer": "ipython3",
   "version": "3.9.7"
  }
 },
 "nbformat": 4,
 "nbformat_minor": 5
}
